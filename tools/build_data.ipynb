{
 "cells": [
  {
   "cell_type": "code",
   "execution_count": 3,
   "id": "e8498a1b",
   "metadata": {},
   "outputs": [
    {
     "name": "stdout",
     "output_type": "stream",
     "text": [
      "Building 100000 counterparties in chunks of 100000 at COB 2025-10-10\n",
      "to .data/runs/5e9b406c-cf65-4b4d-a178-8a6eb1543c42/cpties.parquet with run_id 5e9b406c-cf65-4b4d-a178-8a6eb1543c42 ...\n",
      "Completed in 0.06s. Wrote 100000 rows (mb: 0.74).\n",
      "Building 5000000 trades in chunks of 200000 at COB 2025-10-10\n",
      "to .data/runs/5e9b406c-cf65-4b4d-a178-8a6eb1543c42/trades.parquet with run_id 5e9b406c-cf65-4b4d-a178-8a6eb1543c42 ...\n",
      "Completed in 7.38s. Wrote 5000000 rows (mb: 221.98).\n"
     ]
    }
   ],
   "source": [
    "\"\"\"Script to generate trades for testing purposes.\"\"\"\n",
    "import sys, os\n",
    "PROJECT_ROOT = os.path.abspath(os.path.join(os.getcwd(), \"..\"))  # from tools -> regtechdemo\n",
    "if PROJECT_ROOT not in sys.path:\n",
    "    sys.path.insert(0, PROJECT_ROOT)\n",
    "\n",
    "import uuid\n",
    "from pathlib import Path\n",
    "from datetime import datetime\n",
    "\n",
    "from api.tradebuilder import TradeBuilder\n",
    "from api.cptybuilder import CptyBuilder\n",
    "from api.config import Config\n",
    "\n",
    "# COB date for the data snapshot\n",
    "cob_dt = datetime(2025, 10, 10)\n",
    "\n",
    "run_id = str(uuid.uuid4())\n",
    "\n",
    "cpty_out_path = Path(Config.RUNS_DIR) / run_id / \"cpties.parquet\"\n",
    "rows = 100000\n",
    "chunk_size = 100000\n",
    "print(f\"Building {rows} counterparties in chunks of {chunk_size} at COB {cob_dt.strftime('%Y-%m-%d')}\")\n",
    "print(f\"to {cpty_out_path} with run_id {run_id} ...\")\n",
    "\n",
    "manifest = CptyBuilder().build(cob_dt, run_id, rows, chunk_size, cpty_out_path)\n",
    "if manifest.get(\"status\") != \"succeeded\":\n",
    "    print(f\"Error: {manifest.get('error')}\")\n",
    "else:\n",
    "    print(f\"Completed in {manifest['duration_s']}s. Wrote {manifest['rows']} rows (mb: {manifest['file_size_mb']}).\")\n",
    "\n",
    "trade_out_path = Path(Config.RUNS_DIR) / run_id / \"trades.parquet\"\n",
    "rows = 5000000\n",
    "chunk_size = 200000\n",
    "print(f\"Building {rows} trades in chunks of {chunk_size} at COB {cob_dt.strftime('%Y-%m-%d')}\")\n",
    "print(f\"to {trade_out_path} with run_id {run_id} ...\")\n",
    "\n",
    "manifest = TradeBuilder().build(cob_dt, run_id, rows, chunk_size, trade_out_path)\n",
    "if manifest.get(\"status\") != \"succeeded\":\n",
    "    print(f\"Error: {manifest.get('error')}\")\n",
    "else:\n",
    "    print(f\"Completed in {manifest['duration_s']}s. Wrote {manifest['rows']} rows (mb: {manifest['file_size_mb']}).\")"
   ]
  },
  {
   "cell_type": "code",
   "execution_count": 4,
   "id": "117dd5f1",
   "metadata": {},
   "outputs": [
    {
     "data": {
      "text/plain": [
       "{'dataset': 'trades',\n",
       " 'run_id': '5e9b406c-cf65-4b4d-a178-8a6eb1543c42',\n",
       " 'status': 'succeeded',\n",
       " 'rows': 5000000,\n",
       " 'written': 5000000,\n",
       " 'out_path': '.data/runs/5e9b406c-cf65-4b4d-a178-8a6eb1543c42/trades.parquet',\n",
       " 'duration_s': 7.38,\n",
       " 'file_size_bytes': 232765438,\n",
       " 'file_size_mb': 221.98}"
      ]
     },
     "execution_count": 4,
     "metadata": {},
     "output_type": "execute_result"
    }
   ],
   "source": [
    "manifest"
   ]
  },
  {
   "cell_type": "code",
   "execution_count": null,
   "id": "cf1002aa",
   "metadata": {},
   "outputs": [],
   "source": []
  }
 ],
 "metadata": {
  "kernelspec": {
   "display_name": ".venv",
   "language": "python",
   "name": "python3"
  },
  "language_info": {
   "codemirror_mode": {
    "name": "ipython",
    "version": 3
   },
   "file_extension": ".py",
   "mimetype": "text/x-python",
   "name": "python",
   "nbconvert_exporter": "python",
   "pygments_lexer": "ipython3",
   "version": "3.13.1"
  }
 },
 "nbformat": 4,
 "nbformat_minor": 5
}
