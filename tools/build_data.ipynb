{
 "cells": [
  {
   "cell_type": "code",
   "execution_count": null,
   "id": "e8498a1b",
   "metadata": {},
   "outputs": [
    {
     "name": "stdout",
     "output_type": "stream",
     "text": [
      "Building 5000000 trades in chunks of 200000 at COB 2025-10-10\n",
      "to .data/runs/98a43010-9e79-4c8f-a751-4be698042ff2/trades.parquet with run_id 98a43010-9e79-4c8f-a751-4be698042ff2 ...\n",
      "Completed in 7.36s. Wrote 5000000 rows (mb: 221.98)\n"
     ]
    }
   ],
   "source": [
    "\"\"\"Script to generate trades for testing purposes.\"\"\"\n",
    "import sys, os\n",
    "PROJECT_ROOT = os.path.abspath(os.path.join(os.getcwd(), \"..\"))  # from tools -> regtechdemo\n",
    "if PROJECT_ROOT not in sys.path:\n",
    "    sys.path.insert(0, PROJECT_ROOT)\n",
    "\n",
    "from api.data.tradebuilder import TradeBuilder\n",
    "from api.data.config import Config\n",
    "import uuid\n",
    "from pathlib import Path\n",
    "from datetime import datetime\n",
    "\n",
    "# COB date for the data snapshot\n",
    "cob_dt = datetime(2025, 10, 10)\n",
    "\n",
    "run_id = str(uuid.uuid4())\n",
    "out_path = Path(Config.RUNS_DIR) / run_id / \"trades.parquet\"\n",
    "rows = 5000000\n",
    "chunk_size = 200000\n",
    "\n",
    "print(f\"Building {rows} trades in chunks of {chunk_size} at COB {cob_dt.strftime('%Y-%m-%d')}\")\n",
    "print(f\"to {out_path} with run_id {run_id} ...\")\n",
    "manifest = TradeBuilder().build(cob_dt, run_id, rows, chunk_size, out_path)\n",
    "\n",
    "if manifest.get(\"status\") != \"succeeded\":\n",
    "    print(f\"Error: {manifest.get('error')}\")\n",
    "else:\n",
    "    print(f\"Completed in {manifest['duration_s']}s. Wrote {manifest['rows']} rows (mb: {manifest['file_size_mb']}).\")"
   ]
  },
  {
   "cell_type": "code",
   "execution_count": 4,
   "id": "117dd5f1",
   "metadata": {},
   "outputs": [
    {
     "data": {
      "text/plain": [
       "{'dataset': 'trades',\n",
       " 'run_id': '98a43010-9e79-4c8f-a751-4be698042ff2',\n",
       " 'status': 'succeeded',\n",
       " 'rows': 5000000,\n",
       " 'written': 5000000,\n",
       " 'out_path': '.data/runs/98a43010-9e79-4c8f-a751-4be698042ff2/trades.parquet',\n",
       " 'duration_s': 7.36,\n",
       " 'file_size_bytes': 232765438,\n",
       " 'file_size_mb': 221.98}"
      ]
     },
     "execution_count": 4,
     "metadata": {},
     "output_type": "execute_result"
    }
   ],
   "source": [
    "manifest"
   ]
  },
  {
   "cell_type": "code",
   "execution_count": null,
   "id": "cf1002aa",
   "metadata": {},
   "outputs": [],
   "source": []
  }
 ],
 "metadata": {
  "kernelspec": {
   "display_name": ".venv",
   "language": "python",
   "name": "python3"
  },
  "language_info": {
   "codemirror_mode": {
    "name": "ipython",
    "version": 3
   },
   "file_extension": ".py",
   "mimetype": "text/x-python",
   "name": "python",
   "nbconvert_exporter": "python",
   "pygments_lexer": "ipython3",
   "version": "3.13.1"
  }
 },
 "nbformat": 4,
 "nbformat_minor": 5
}
